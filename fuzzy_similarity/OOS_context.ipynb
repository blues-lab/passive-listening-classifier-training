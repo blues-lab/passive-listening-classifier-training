{
 "cells": [
  {
   "cell_type": "code",
   "execution_count": 1,
   "metadata": {},
   "outputs": [],
   "source": [
    "import pandas as pd\n",
    "import random"
   ]
  },
  {
   "cell_type": "code",
   "execution_count": 2,
   "metadata": {},
   "outputs": [],
   "source": [
    "oos = pd.read_csv('samples.txt', sep = '\\n', names=['sentences'])\n",
    "triggers = pd.read_csv('triggers.txt', sep = '\\n', names=['sentences'])\n",
    "distractors_tbl = pd.read_csv('neg_distractors.txt', sep = '\\n', names=['sentences'])\n",
    "context = pd.read_csv('weather_app_sample_convos.csv')"
   ]
  },
  {
   "cell_type": "code",
   "execution_count": 3,
   "metadata": {},
   "outputs": [],
   "source": [
    "def oos_context_gen(oos, triggers, context, distractors = True, randomize = False, len_oos = 20): \n",
    "    \"Generates one random string of input for the weather app using len_oos OOS lines\"\n",
    "    \n",
    "    oos_samp = oos.sample(len_oos)\n",
    "    context_samp = context.sample(1)\n",
    "    triggers_samp = triggers.sample(1)\n",
    "        \n",
    "    oos_text = ' '.join(oos_samp['sentences'].values)\n",
    "    context_text, label = context_samp['Context'].values[0], context_samp['Location'].values[0]\n",
    "    trigger = triggers_samp['sentences'].values[0]\n",
    "    \n",
    "    if distractors == True:\n",
    "        distractors_samp = distractors_tbl.sample(1)\n",
    "        distractors_text = distractors_samp['sentences'].values[0]\n",
    "        concat = [oos_text, context_text, distractors_text, trigger]    \n",
    "    else: \n",
    "        concat = [oos_text, context_text, trigger]\n",
    "        \n",
    "    if randomize: \n",
    "        random.shuffle(concat)\n",
    "        \n",
    "    return ' '.join(concat), label \n",
    "        \n",
    "    "
   ]
  },
  {
   "cell_type": "markdown",
   "metadata": {},
   "source": [
    "### With distractors and no randomization"
   ]
  },
  {
   "cell_type": "code",
   "execution_count": 8,
   "metadata": {},
   "outputs": [
    {
     "name": "stderr",
     "output_type": "stream",
     "text": [
      "100%|█████████████████████████████████████████████████████████████████████████████| 5000/5000 [00:25<00:00, 196.81it/s]\n"
     ]
    }
   ],
   "source": [
    "input_samples = pd.DataFrame(columns = ['sentence', 'label'])\n",
    "for i in tqdm(range(5000)): \n",
    "    sent, lab = oos_context_gen(oos, triggers, context)\n",
    "    input_samples = input_samples.append({'sentence' : sent, 'label' : lab}, ignore_index = True)\n",
    "\n",
    "input_samples.to_csv('input_samples_dist_norandom.csv')"
   ]
  },
  {
   "cell_type": "code",
   "execution_count": 10,
   "metadata": {},
   "outputs": [],
   "source": [
    "input_samples = pd.read_csv('input_samples_dist_norandom.csv')"
   ]
  },
  {
   "cell_type": "code",
   "execution_count": 11,
   "metadata": {},
   "outputs": [],
   "source": [
    "from transformers import pipeline\n",
    "from tqdm import tqdm"
   ]
  },
  {
   "cell_type": "code",
   "execution_count": 12,
   "metadata": {},
   "outputs": [],
   "source": [
    "def test_loc(questions=[\"what is the location?\"]):\n",
    "    \"\"\"\n",
    "    Function to test qa model against a list of location related questions. \n",
    "    Calculates accuracy (disregards nan values)\n",
    "    \"\"\"\n",
    "    num_correct = []\n",
    "    for ques in tqdm(questions):\n",
    "        curr_correct = 0\n",
    "        for index, row in tqdm(input_samples.iterrows()):\n",
    "            context = row[\"sentence\"]\n",
    "            nlp_res = nlp(question=ques, context=context)\n",
    "            \n",
    "            if nlp_res['answer'].lower() in str(row['label']).lower(): \n",
    "                curr_correct += 1\n",
    "        num_correct.append(curr_correct/len(input_samples))\n",
    "            \n",
    "    return num_correct"
   ]
  },
  {
   "cell_type": "code",
   "execution_count": 13,
   "metadata": {},
   "outputs": [],
   "source": [
    "model_name = \"mrm8488/bert-tiny-5-finetuned-squadv2\"\n",
    "nlp = pipeline(model=model_name, tokenizer=model_name, task=\"question-answering\")"
   ]
  },
  {
   "cell_type": "code",
   "execution_count": 14,
   "metadata": {},
   "outputs": [],
   "source": [
    "input_samples = input_samples.dropna().sample(100)"
   ]
  },
  {
   "cell_type": "code",
   "execution_count": 15,
   "metadata": {
    "collapsed": true
   },
   "outputs": [
    {
     "name": "stderr",
     "output_type": "stream",
     "text": [
      "  0%|                                                                                            | 0/1 [00:00<?, ?it/s]\n",
      "0it [00:00, ?it/s]\u001b[A\n",
      "1it [00:00,  6.25it/s]\u001b[A\n",
      "2it [00:00,  6.90it/s]\u001b[A\n",
      "4it [00:00,  7.85it/s]\u001b[A\n",
      "5it [00:00,  8.07it/s]\u001b[A\n",
      "6it [00:00,  8.54it/s]\u001b[A\n",
      "8it [00:00,  8.73it/s]\u001b[A\n",
      "9it [00:00,  9.07it/s]\u001b[A\n",
      "10it [00:01,  9.01it/s]\u001b[A\n",
      "11it [00:01,  7.53it/s]\u001b[A\n",
      "12it [00:01,  7.30it/s]\u001b[A\n",
      "13it [00:01,  7.53it/s]\u001b[A\n",
      "14it [00:01,  7.76it/s]\u001b[A\n",
      "15it [00:01,  7.46it/s]\u001b[A\n",
      "16it [00:01,  7.68it/s]\u001b[A\n",
      "17it [00:02,  8.13it/s]\u001b[A\n",
      "18it [00:02,  8.07it/s]\u001b[A\n",
      "19it [00:02,  8.54it/s]\u001b[A\n",
      "20it [00:02,  8.32it/s]\u001b[A\n",
      "21it [00:02,  8.45it/s]\u001b[A\n",
      "22it [00:02,  8.33it/s]\u001b[A\n",
      "23it [00:02,  8.10it/s]\u001b[A\n",
      "24it [00:02,  8.29it/s]\u001b[A\n",
      "25it [00:03,  7.87it/s]\u001b[A\n",
      "26it [00:03,  7.38it/s]\u001b[A\n",
      "27it [00:03,  4.93it/s]\u001b[A\n",
      "28it [00:03,  5.48it/s]\u001b[A\n",
      "30it [00:03,  6.38it/s]\u001b[A\n",
      "31it [00:03,  7.01it/s]\u001b[A\n",
      "32it [00:04,  7.40it/s]\u001b[A\n",
      "33it [00:04,  8.02it/s]\u001b[A\n",
      "34it [00:04,  8.51it/s]\u001b[A\n",
      "35it [00:04,  5.58it/s]\u001b[A\n",
      "36it [00:04,  6.42it/s]\u001b[A\n",
      "37it [00:04,  6.93it/s]\u001b[A\n",
      "38it [00:04,  7.62it/s]\u001b[A\n",
      "39it [00:05,  7.30it/s]\u001b[A\n",
      "40it [00:05,  7.62it/s]\u001b[A\n",
      "41it [00:05,  5.30it/s]\u001b[A\n",
      "42it [00:05,  6.11it/s]\u001b[A\n",
      "43it [00:05,  6.86it/s]\u001b[A\n",
      "44it [00:05,  7.39it/s]\u001b[A\n",
      "45it [00:05,  7.29it/s]\u001b[A\n",
      "46it [00:06,  7.47it/s]\u001b[A\n",
      "47it [00:06,  7.72it/s]\u001b[A\n",
      "48it [00:06,  8.17it/s]\u001b[A\n",
      "49it [00:06,  8.35it/s]\u001b[A\n",
      "50it [00:06,  8.02it/s]\u001b[A\n",
      "52it [00:06,  8.39it/s]\u001b[A\n",
      "53it [00:06,  7.68it/s]\u001b[A\n",
      "54it [00:07,  7.50it/s]\u001b[A\n",
      "56it [00:07,  8.46it/s]\u001b[A\n",
      "57it [00:07,  8.43it/s]\u001b[A\n",
      "58it [00:07,  8.51it/s]\u001b[A\n",
      "59it [00:07,  8.74it/s]\u001b[A\n",
      "60it [00:07,  7.81it/s]\u001b[A\n",
      "61it [00:08,  5.35it/s]\u001b[A\n",
      "63it [00:08,  6.37it/s]\u001b[A\n",
      "65it [00:08,  7.20it/s]\u001b[A\n",
      "66it [00:08,  7.46it/s]\u001b[A\n",
      "68it [00:08,  8.29it/s]\u001b[A\n",
      "69it [00:08,  8.59it/s]\u001b[A\n",
      "71it [00:09,  9.25it/s]\u001b[A\n",
      "72it [00:09,  9.39it/s]\u001b[A\n",
      "74it [00:09, 10.06it/s]\u001b[A\n",
      "76it [00:09,  7.25it/s]\u001b[A\n",
      "77it [00:09,  7.56it/s]\u001b[A\n",
      "78it [00:09,  8.15it/s]\u001b[A\n",
      "79it [00:10,  5.53it/s]\u001b[A\n",
      "80it [00:10,  4.02it/s]\u001b[A\n",
      "81it [00:10,  4.78it/s]\u001b[A\n",
      "82it [00:10,  5.47it/s]\u001b[A\n",
      "83it [00:11,  5.96it/s]\u001b[A\n",
      "84it [00:11,  6.55it/s]\u001b[A\n",
      "85it [00:11,  6.96it/s]\u001b[A\n",
      "86it [00:11,  7.29it/s]\u001b[A\n",
      "87it [00:11,  7.75it/s]\u001b[A\n",
      "88it [00:11,  8.26it/s]\u001b[A\n",
      "89it [00:11,  8.25it/s]\u001b[A\n",
      "90it [00:11,  8.15it/s]\u001b[A\n",
      "91it [00:12,  7.35it/s]\u001b[A\n",
      "92it [00:12,  7.67it/s]\u001b[A\n",
      "93it [00:12,  7.53it/s]\u001b[A\n",
      "94it [00:12,  7.78it/s]\u001b[A\n",
      "95it [00:12,  8.04it/s]\u001b[A\n",
      "96it [00:12,  7.82it/s]\u001b[A\n",
      "97it [00:12,  8.05it/s]\u001b[A\n",
      "98it [00:12,  8.19it/s]\u001b[A\n",
      "99it [00:13,  8.65it/s]\u001b[A\n",
      "100it [00:13,  7.61it/s]\u001b[A\n",
      "100%|████████████████████████████████████████████████████████████████████████████████████| 1/1 [00:13<00:00, 13.15s/it]\n"
     ]
    }
   ],
   "source": [
    "accuracy = test_loc()"
   ]
  },
  {
   "cell_type": "code",
   "execution_count": 16,
   "metadata": {},
   "outputs": [
    {
     "data": {
      "text/plain": [
       "[0.03]"
      ]
     },
     "execution_count": 16,
     "metadata": {},
     "output_type": "execute_result"
    }
   ],
   "source": [
    "accuracy"
   ]
  },
  {
   "cell_type": "markdown",
   "metadata": {},
   "source": [
    "### Without distractors and with randomization"
   ]
  },
  {
   "cell_type": "code",
   "execution_count": 17,
   "metadata": {},
   "outputs": [
    {
     "name": "stderr",
     "output_type": "stream",
     "text": [
      "100%|█████████████████████████████████████████████████████████████████████████████| 5000/5000 [00:22<00:00, 221.20it/s]\n"
     ]
    }
   ],
   "source": [
    "input_samples = pd.DataFrame(columns = ['sentence', 'label'])\n",
    "for i in tqdm(range(5000)): \n",
    "    sent, lab = oos_context_gen(oos, triggers, context, distractors = False, randomize = True)\n",
    "    input_samples = input_samples.append({'sentence' : sent, 'label' : lab}, ignore_index = True)\n",
    "\n",
    "input_samples.to_csv('input_samples_nodist_random.csv')"
   ]
  },
  {
   "cell_type": "code",
   "execution_count": 18,
   "metadata": {},
   "outputs": [],
   "source": [
    "input_samples = pd.read_csv('input_samples_nodist_random.csv')"
   ]
  },
  {
   "cell_type": "code",
   "execution_count": 19,
   "metadata": {},
   "outputs": [],
   "source": [
    "input_samples = input_samples.dropna().sample(100)"
   ]
  },
  {
   "cell_type": "code",
   "execution_count": 20,
   "metadata": {
    "collapsed": true
   },
   "outputs": [
    {
     "name": "stderr",
     "output_type": "stream",
     "text": [
      "  0%|                                                                                            | 0/1 [00:00<?, ?it/s]\n",
      "0it [00:00, ?it/s]\u001b[A\n",
      "1it [00:00,  8.12it/s]\u001b[A\n",
      "3it [00:00,  8.91it/s]\u001b[A\n",
      "4it [00:00,  8.73it/s]\u001b[A\n",
      "5it [00:00,  8.01it/s]\u001b[A\n",
      "6it [00:00,  8.50it/s]\u001b[A\n",
      "8it [00:00,  9.07it/s]\u001b[A\n",
      "9it [00:00,  8.81it/s]\u001b[A\n",
      "10it [00:01,  4.88it/s]\u001b[A\n",
      "12it [00:01,  6.07it/s]\u001b[A\n",
      "13it [00:01,  6.87it/s]\u001b[A\n",
      "15it [00:01,  7.88it/s]\u001b[A\n",
      "17it [00:01,  8.61it/s]\u001b[A\n",
      "19it [00:02,  9.31it/s]\u001b[A\n",
      "21it [00:02,  9.57it/s]\u001b[A\n",
      "23it [00:02,  9.89it/s]\u001b[A\n",
      "25it [00:02, 10.74it/s]\u001b[A\n",
      "27it [00:02, 10.08it/s]\u001b[A\n",
      "29it [00:03,  9.92it/s]\u001b[A\n",
      "31it [00:03, 10.21it/s]\u001b[A\n",
      "33it [00:03, 10.37it/s]\u001b[A\n",
      "35it [00:03, 10.27it/s]\u001b[A\n",
      "37it [00:03,  9.77it/s]\u001b[A\n",
      "39it [00:04, 10.13it/s]\u001b[A\n",
      "41it [00:04, 10.40it/s]\u001b[A\n",
      "43it [00:04, 11.02it/s]\u001b[A\n",
      "45it [00:04, 11.30it/s]\u001b[A\n",
      "47it [00:04, 11.06it/s]\u001b[A\n",
      "49it [00:05,  7.92it/s]\u001b[A\n",
      "50it [00:05,  8.04it/s]\u001b[A\n",
      "51it [00:05,  8.52it/s]\u001b[A\n",
      "52it [00:05,  8.58it/s]\u001b[A\n",
      "53it [00:05,  8.93it/s]\u001b[A\n",
      "55it [00:05,  9.68it/s]\u001b[A\n",
      "57it [00:06,  7.20it/s]\u001b[A\n",
      "58it [00:06,  7.68it/s]\u001b[A\n",
      "59it [00:06,  8.24it/s]\u001b[A\n",
      "60it [00:06,  8.13it/s]\u001b[A\n",
      "61it [00:06,  7.95it/s]\u001b[A\n",
      "62it [00:06,  7.59it/s]\u001b[A\n",
      "63it [00:07,  7.72it/s]\u001b[A\n",
      "64it [00:07,  8.00it/s]\u001b[A\n",
      "65it [00:07,  7.42it/s]\u001b[A\n",
      "66it [00:07,  7.63it/s]\u001b[A\n",
      "67it [00:07,  7.38it/s]\u001b[A\n",
      "68it [00:07,  7.60it/s]\u001b[A\n",
      "69it [00:07,  7.99it/s]\u001b[A\n",
      "70it [00:07,  8.19it/s]\u001b[A\n",
      "71it [00:07,  8.62it/s]\u001b[A\n",
      "72it [00:08,  8.62it/s]\u001b[A\n",
      "73it [00:08,  8.62it/s]\u001b[A\n",
      "74it [00:08,  8.59it/s]\u001b[A\n",
      "75it [00:08,  8.56it/s]\u001b[A\n",
      "76it [00:08,  8.56it/s]\u001b[A\n",
      "78it [00:08,  9.62it/s]\u001b[A\n",
      "80it [00:08, 10.21it/s]\u001b[A\n",
      "82it [00:09, 10.07it/s]\u001b[A\n",
      "84it [00:09,  9.72it/s]\u001b[A\n",
      "85it [00:09,  9.37it/s]\u001b[A\n",
      "86it [00:09,  9.34it/s]\u001b[A\n",
      "87it [00:09,  8.92it/s]\u001b[A\n",
      "88it [00:09,  7.63it/s]\u001b[A\n",
      "89it [00:09,  8.17it/s]\u001b[A\n",
      "90it [00:10,  8.57it/s]\u001b[A\n",
      "92it [00:10,  9.21it/s]\u001b[A\n",
      "94it [00:10,  9.51it/s]\u001b[A\n",
      "96it [00:10,  9.69it/s]\u001b[A\n",
      "97it [00:10,  8.26it/s]\u001b[A\n",
      "98it [00:10,  8.66it/s]\u001b[A\n",
      "99it [00:11,  8.62it/s]\u001b[A\n",
      "100it [00:11,  8.99it/s]\u001b[A\n",
      "100%|████████████████████████████████████████████████████████████████████████████████████| 1/1 [00:11<00:00, 11.14s/it]\n"
     ]
    }
   ],
   "source": [
    "accuracy = test_loc()"
   ]
  },
  {
   "cell_type": "code",
   "execution_count": 21,
   "metadata": {},
   "outputs": [
    {
     "data": {
      "text/plain": [
       "[0.14]"
      ]
     },
     "execution_count": 21,
     "metadata": {},
     "output_type": "execute_result"
    }
   ],
   "source": [
    "accuracy"
   ]
  },
  {
   "cell_type": "markdown",
   "metadata": {},
   "source": [
    "### No distractors and no randomization and reduced length (15)"
   ]
  },
  {
   "cell_type": "code",
   "execution_count": 22,
   "metadata": {},
   "outputs": [
    {
     "name": "stderr",
     "output_type": "stream",
     "text": [
      "100%|█████████████████████████████████████████████████████████████████████████████| 5000/5000 [00:25<00:00, 197.14it/s]\n"
     ]
    }
   ],
   "source": [
    "input_samples = pd.DataFrame(columns = ['sentence', 'label'])\n",
    "for i in tqdm(range(5000)): \n",
    "    sent, lab = oos_context_gen(oos, triggers, context, distractors = False, randomize = False, len_oos = 15)\n",
    "    input_samples = input_samples.append({'sentence' : sent, 'label' : lab}, ignore_index = True)\n",
    "\n",
    "input_samples.to_csv('input_samples_nodist_norandom.csv')"
   ]
  },
  {
   "cell_type": "code",
   "execution_count": 23,
   "metadata": {},
   "outputs": [],
   "source": [
    "input_samples = input_samples.dropna().sample(100)"
   ]
  },
  {
   "cell_type": "code",
   "execution_count": 24,
   "metadata": {
    "collapsed": true
   },
   "outputs": [
    {
     "name": "stderr",
     "output_type": "stream",
     "text": [
      "  0%|                                                                                            | 0/1 [00:00<?, ?it/s]\n",
      "0it [00:00, ?it/s]\u001b[A\n",
      "2it [00:00, 10.34it/s]\u001b[A\n",
      "4it [00:00, 11.10it/s]\u001b[A\n",
      "6it [00:00, 11.80it/s]\u001b[A\n",
      "8it [00:00, 12.31it/s]\u001b[A\n",
      "10it [00:00, 12.04it/s]\u001b[A\n",
      "12it [00:00, 12.75it/s]\u001b[A\n",
      "14it [00:01, 12.45it/s]\u001b[A\n",
      "16it [00:01, 11.69it/s]\u001b[A\n",
      "18it [00:01, 12.07it/s]\u001b[A\n",
      "20it [00:01, 12.44it/s]\u001b[A\n",
      "22it [00:01, 12.36it/s]\u001b[A\n",
      "24it [00:01, 12.60it/s]\u001b[A\n",
      "26it [00:02, 12.79it/s]\u001b[A\n",
      "28it [00:02, 12.13it/s]\u001b[A\n",
      "30it [00:02, 12.26it/s]\u001b[A\n",
      "32it [00:02, 12.82it/s]\u001b[A\n",
      "34it [00:02, 12.96it/s]\u001b[A\n",
      "36it [00:02, 13.50it/s]\u001b[A\n",
      "38it [00:03, 13.41it/s]\u001b[A\n",
      "40it [00:03, 13.01it/s]\u001b[A\n",
      "42it [00:03, 12.62it/s]\u001b[A\n",
      "44it [00:03, 12.88it/s]\u001b[A\n",
      "46it [00:03, 12.52it/s]\u001b[A\n",
      "48it [00:03, 12.41it/s]\u001b[A\n",
      "50it [00:04, 11.63it/s]\u001b[A\n",
      "52it [00:04, 11.94it/s]\u001b[A\n",
      "54it [00:04, 11.35it/s]\u001b[A\n",
      "56it [00:04, 12.04it/s]\u001b[A\n",
      "58it [00:04, 11.47it/s]\u001b[A\n",
      "60it [00:04, 11.24it/s]\u001b[A\n",
      "62it [00:05, 10.88it/s]\u001b[A\n",
      "64it [00:05, 10.87it/s]\u001b[A\n",
      "66it [00:05, 11.21it/s]\u001b[A\n",
      "68it [00:05, 11.76it/s]\u001b[A\n",
      "70it [00:05, 11.90it/s]\u001b[A\n",
      "72it [00:05, 12.26it/s]\u001b[A\n",
      "74it [00:06, 12.59it/s]\u001b[A\n",
      "76it [00:06, 12.40it/s]\u001b[A\n",
      "78it [00:06, 12.19it/s]\u001b[A\n",
      "80it [00:06, 12.17it/s]\u001b[A\n",
      "82it [00:06, 12.53it/s]\u001b[A\n",
      "84it [00:06, 13.54it/s]\u001b[A\n",
      "86it [00:06, 12.90it/s]\u001b[A\n",
      "88it [00:07, 13.21it/s]\u001b[A\n",
      "90it [00:07, 12.88it/s]\u001b[A\n",
      "92it [00:07, 12.54it/s]\u001b[A\n",
      "94it [00:07, 12.75it/s]\u001b[A\n",
      "96it [00:07, 12.76it/s]\u001b[A\n",
      "98it [00:07, 13.08it/s]\u001b[A\n",
      "100it [00:08, 12.34it/s]\u001b[A\n",
      "100%|████████████████████████████████████████████████████████████████████████████████████| 1/1 [00:08<00:00,  8.11s/it]\n"
     ]
    }
   ],
   "source": [
    "accuracy = test_loc()"
   ]
  },
  {
   "cell_type": "code",
   "execution_count": 25,
   "metadata": {},
   "outputs": [
    {
     "data": {
      "text/plain": [
       "[0.12]"
      ]
     },
     "execution_count": 25,
     "metadata": {},
     "output_type": "execute_result"
    }
   ],
   "source": [
    "accuracy"
   ]
  },
  {
   "cell_type": "markdown",
   "metadata": {},
   "source": [
    "### Reducing length even further"
   ]
  },
  {
   "cell_type": "code",
   "execution_count": 26,
   "metadata": {},
   "outputs": [
    {
     "name": "stderr",
     "output_type": "stream",
     "text": [
      "100%|█████████████████████████████████████████████████████████████████████████████| 5000/5000 [00:21<00:00, 233.13it/s]\n"
     ]
    }
   ],
   "source": [
    "input_samples = pd.DataFrame(columns = ['sentence', 'label'])\n",
    "for i in tqdm(range(5000)): \n",
    "    sent, lab = oos_context_gen(oos, triggers, context, distractors = False, randomize = False, len_oos = 10)\n",
    "    input_samples = input_samples.append({'sentence' : sent, 'label' : lab}, ignore_index = True)"
   ]
  },
  {
   "cell_type": "code",
   "execution_count": 27,
   "metadata": {},
   "outputs": [],
   "source": [
    "input_samples = input_samples.dropna().sample(100)"
   ]
  },
  {
   "cell_type": "code",
   "execution_count": null,
   "metadata": {},
   "outputs": [],
   "source": [
    "accuracy = test_loc()"
   ]
  }
 ],
 "metadata": {
  "kernelspec": {
   "display_name": "Python 3",
   "language": "python",
   "name": "python3"
  },
  "language_info": {
   "codemirror_mode": {
    "name": "ipython",
    "version": 3
   },
   "file_extension": ".py",
   "mimetype": "text/x-python",
   "name": "python",
   "nbconvert_exporter": "python",
   "pygments_lexer": "ipython3",
   "version": "3.8.3"
  }
 },
 "nbformat": 4,
 "nbformat_minor": 4
}
