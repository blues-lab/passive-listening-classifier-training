{
 "metadata": {
  "language_info": {
   "codemirror_mode": {
    "name": "ipython",
    "version": 3
   },
   "file_extension": ".py",
   "mimetype": "text/x-python",
   "name": "python",
   "nbconvert_exporter": "python",
   "pygments_lexer": "ipython3",
   "version": "3.9.2-final"
  },
  "orig_nbformat": 2,
  "kernelspec": {
   "name": "python3",
   "display_name": "Python 3.9.2 64-bit",
   "metadata": {
    "interpreter": {
     "hash": "bcb8d82cad7480db5f7297a92373097b66989021328d92e5eabcb556335c86c0"
    }
   }
  }
 },
 "nbformat": 4,
 "nbformat_minor": 2,
 "cells": [
  {
   "cell_type": "code",
   "execution_count": 24,
   "metadata": {},
   "outputs": [],
   "source": [
    "# !pip install spacy\n",
    "import spacy\n",
    "# python -m spacy download en_core_web_lg\n",
    "nlp = spacy.load(\"en_core_web_lg\")\n",
    "import pandas as pd\n",
    "import sklearn.linear_model as lm\n",
    "import sklearn.svm as svm"
   ]
  },
  {
   "cell_type": "code",
   "execution_count": 26,
   "metadata": {},
   "outputs": [],
   "source": [
    "triggers = pd.read_csv(\"handwritten_triggers.csv\", header=None)[0]"
   ]
  },
  {
   "cell_type": "code",
   "execution_count": 30,
   "metadata": {},
   "outputs": [],
   "source": [
    "context = pd.read_csv(\"handwritten_context.csv\", header=None)[0]"
   ]
  },
  {
   "cell_type": "code",
   "execution_count": 83,
   "metadata": {},
   "outputs": [],
   "source": [
    "negatives = pd.read_csv(\"samples.txt\", header=None, delimiter='\\n')[0]\n",
    "negative_paragraphs = []\n",
    "for i in range(len(negatives) // 5):\n",
    "    negative_paragraphs.append(negatives[i])\n",
    "    for j in range(1, 5):\n",
    "        negative_paragraphs[-1] += negatives[i+j]\n",
    "negative_paragraphs = pd.Series(negative_paragraphs)"
   ]
  },
  {
   "cell_type": "code",
   "execution_count": 84,
   "metadata": {},
   "outputs": [],
   "source": [
    "def avg_similarity_with_triggers(doc):\n",
    "    tot = 0\n",
    "    for trigger in triggers:\n",
    "        tot += doc.similarity(nlp(trigger))\n",
    "    return tot / len(triggers)"
   ]
  },
  {
   "cell_type": "code",
   "execution_count": 85,
   "metadata": {},
   "outputs": [],
   "source": [
    "contexts_avg_similarities = context.apply(nlp).apply(avg_similarity_with_triggers)"
   ]
  },
  {
   "cell_type": "code",
   "execution_count": 86,
   "metadata": {},
   "outputs": [],
   "source": [
    "# shuffle\n",
    "negative_paragraphs = negative_paragraphs.sample(len(negative_paragraphs))"
   ]
  },
  {
   "cell_type": "code",
   "execution_count": 87,
   "metadata": {},
   "outputs": [],
   "source": [
    "data = pd.DataFrame()\n",
    "data['score'] = contexts_avg_similarities\n",
    "data['label'] = [1] * len(triggers_avg_similarities)"
   ]
  },
  {
   "cell_type": "code",
   "execution_count": 89,
   "metadata": {},
   "outputs": [],
   "source": [
    "# only using 30 random negative sentences to have as label of 0\n",
    "negative_data = pd.DataFrame()\n",
    "negative_data['score'] = negative_paragraphs[:30].apply(nlp).apply(avg_similarity_with_triggers)\n",
    "negative_data['label'] = [0] * 30\n",
    "\n",
    "data = data.append(negative_data)"
   ]
  },
  {
   "cell_type": "code",
   "execution_count": 95,
   "metadata": {},
   "outputs": [],
   "source": [
    "# try out a very basic SVM to create a linear boundary\n",
    "model = svm.LinearSVC()"
   ]
  },
  {
   "source": [
    "model.fit(data[['score']], data['label'])"
   ],
   "cell_type": "code",
   "metadata": {},
   "execution_count": null,
   "outputs": []
  },
  {
   "cell_type": "code",
   "execution_count": 100,
   "metadata": {},
   "outputs": [
    {
     "output_type": "execute_result",
     "data": {
      "text/plain": [
       "0.8666666666666667"
      ]
     },
     "metadata": {},
     "execution_count": 100
    }
   ],
   "source": [
    "# Accuracy on training data\n",
    "model.score(data[['score']], data['label'])"
   ]
  },
  {
   "cell_type": "code",
   "execution_count": 98,
   "metadata": {},
   "outputs": [
    {
     "output_type": "execute_result",
     "data": {
      "text/plain": [
       "array([1], dtype=int64)"
      ]
     },
     "metadata": {},
     "execution_count": 98
    }
   ],
   "source": [
    "model.predict([[avg_similarity_with_triggers(nlp(\"what is the weather today ?\"))]])"
   ]
  },
  {
   "cell_type": "code",
   "execution_count": 103,
   "metadata": {},
   "outputs": [
    {
     "output_type": "execute_result",
     "data": {
      "text/plain": [
       "array([1], dtype=int64)"
      ]
     },
     "metadata": {},
     "execution_count": 103
    }
   ],
   "source": [
    "model.predict([[avg_similarity_with_triggers(nlp(\"The incoming storm has been destroying everything in its path. We should get out of Florida before it heads in this direction. We should be able to pack up and move to the house in the west. Hopefully, they have better weather there.\"))]])"
   ]
  }
 ]
}