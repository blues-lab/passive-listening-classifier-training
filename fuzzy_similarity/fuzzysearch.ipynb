{
 "cells": [
  {
   "cell_type": "code",
   "execution_count": 1,
   "metadata": {},
   "outputs": [
    {
     "name": "stdout",
     "output_type": "stream",
     "text": [
      "Requirement already satisfied: fuzzywuzzy in c:\\users\\varun jadia\\appdata\\local\\programs\\python\\python38\\lib\\site-packages (0.18.0)\n"
     ]
    },
    {
     "name": "stderr",
     "output_type": "stream",
     "text": [
      "WARNING: You are using pip version 19.2.3, however version 21.0.1 is available.\n",
      "You should consider upgrading via the 'python -m pip install --upgrade pip' command.\n"
     ]
    }
   ],
   "source": [
    "!pip install fuzzywuzzy"
   ]
  },
  {
   "cell_type": "code",
   "execution_count": 2,
   "metadata": {},
   "outputs": [
    {
     "name": "stderr",
     "output_type": "stream",
     "text": [
      "c:\\users\\varun jadia\\appdata\\local\\programs\\python\\python38\\lib\\site-packages\\fuzzywuzzy\\fuzz.py:11: UserWarning: Using slow pure-python SequenceMatcher. Install python-Levenshtein to remove this warning\n",
      "  warnings.warn('Using slow pure-python SequenceMatcher. Install python-Levenshtein to remove this warning')\n"
     ]
    }
   ],
   "source": [
    "from fuzzywuzzy import fuzz \n",
    "from fuzzywuzzy import process \n",
    "import pandas as pd\n",
    "import numpy as np\n",
    "import string"
   ]
  },
  {
   "cell_type": "code",
   "execution_count": 3,
   "metadata": {},
   "outputs": [],
   "source": [
    "#set up df and target sentence for string matching\n",
    "triggers = pd.read_csv('weather app sample conversations - more explicit triggers.csv', names = ['Sentences'])\n",
    "triggers.dropna(inplace=True)\n",
    "target_sent = 'What is the weather'"
   ]
  },
  {
   "cell_type": "code",
   "execution_count": 4,
   "metadata": {},
   "outputs": [],
   "source": [
    "#classify based on fuzzy string ratio\n",
    "triggers['fuzzydist'] = triggers['Sentences'].apply(lambda x: fuzz.ratio(x, target_sent))\n",
    "triggers['label'] = triggers['fuzzydist'].apply(lambda x: x > 50)"
   ]
  },
  {
   "cell_type": "code",
   "execution_count": 5,
   "metadata": {},
   "outputs": [
    {
     "data": {
      "text/plain": [
       "0.4594594594594595"
      ]
     },
     "execution_count": 5,
     "metadata": {},
     "output_type": "execute_result"
    }
   ],
   "source": [
    "sum(triggers['label'])/len(triggers)"
   ]
  },
  {
   "cell_type": "code",
   "execution_count": 6,
   "metadata": {},
   "outputs": [],
   "source": [
    "#clean sentences first and pass into fuzzywuzzy\n",
    "triggers['sent_cleaned'] = triggers['Sentences'].apply(lambda x: x.translate(str.maketrans('', '', string.punctuation)))\n",
    "triggers['label_cleaned'] = triggers['sent_cleaned'].apply(lambda x: fuzz.ratio(x, target_sent) > 50)"
   ]
  },
  {
   "cell_type": "code",
   "execution_count": 7,
   "metadata": {},
   "outputs": [
    {
     "data": {
      "text/plain": [
       "0.4594594594594595"
      ]
     },
     "execution_count": 7,
     "metadata": {},
     "output_type": "execute_result"
    }
   ],
   "source": [
    "sum(triggers['label_cleaned'])/len(triggers)"
   ]
  },
  {
   "cell_type": "code",
   "execution_count": 24,
   "metadata": {},
   "outputs": [
    {
     "name": "stdout",
     "output_type": "stream",
     "text": [
      "[76, 20, 37, 39, 15]\n",
      "[60, 23, 24, 35, 15]\n",
      "[67, 26, 36, 35, 13]\n",
      "[52, 23, 32, 31, 13]\n",
      "[79, 43, 26, 43, 19]\n",
      "[74, 36, 24, 40, 18]\n",
      "[29, 20, 21, 48, 24]\n",
      "[30, 26, 22, 32, 26]\n",
      "[71, 32, 29, 29, 23]\n",
      "[47, 40, 26, 15, 28]\n",
      "[50, 17, 32, 38, 51]\n",
      "[32, 32, 35, 29, 70]\n",
      "[39, 65, 38, 31, 35]\n",
      "[36, 14, 15, 34, 25]\n",
      "[50, 41, 44, 41, 72]\n",
      "[44, 40, 49, 40, 65]\n",
      "[56, 21, 40, 28, 37]\n",
      "[41, 37, 40, 37, 37]\n",
      "[60, 29, 43, 48, 37]\n",
      "[29, 48, 31, 31, 19]\n",
      "[35, 36, 38, 30, 18]\n",
      "[21, 11, 23, 23, 54]\n",
      "[29, 54, 31, 34, 21]\n",
      "[53, 38, 41, 25, 35]\n",
      "[65, 36, 33, 52, 58]\n",
      "[24, 50, 43, 36, 65]\n",
      "[44, 40, 49, 40, 65]\n",
      "[31, 68, 80, 37, 32]\n",
      "[29, 43, 32, 38, 26]\n",
      "[71, 27, 34, 37, 59]\n",
      "[26, 67, 52, 40, 27]\n",
      "[29, 39, 42, 74, 24]\n",
      "[58, 32, 34, 24, 14]\n",
      "[78, 20, 32, 40, 15]\n",
      "[29, 37, 31, 27, 48]\n",
      "[62, 60, 36, 42, 17]\n",
      "[46, 18, 34, 33, 43]\n"
     ]
    },
    {
     "data": {
      "text/plain": [
       "0.7297297297297297"
      ]
     },
     "execution_count": 24,
     "metadata": {},
     "output_type": "execute_result"
    }
   ],
   "source": [
    "#test using multiple trigger sents\n",
    "target_sents = ['what is the weather', 'will it rain today', 'is it hot today', 'what is todays forecast', 'is it cold outside']\n",
    "def classify_sent(sent): \n",
    "    scores = [fuzz.ratio(sent, target) for target in target_sents]\n",
    "    print(scores)\n",
    "    return max(scores) > 50\n",
    "\n",
    "triggers['label_mult'] = triggers['sent_cleaned'].apply(lambda x: classify_sent(x))\n",
    "sum(triggers['label_mult'])/len(triggers)"
   ]
  },
  {
   "cell_type": "code",
   "execution_count": 18,
   "metadata": {},
   "outputs": [],
   "source": [
    "#test on negative examples\n",
    "f = open('samples.txt', 'r')"
   ]
  },
  {
   "cell_type": "code",
   "execution_count": 19,
   "metadata": {},
   "outputs": [],
   "source": [
    "labels_cont = [classify_sent(sent) for sent in f]    "
   ]
  },
  {
   "cell_type": "code",
   "execution_count": 22,
   "metadata": {},
   "outputs": [
    {
     "data": {
      "text/plain": [
       "25"
      ]
     },
     "execution_count": 22,
     "metadata": {},
     "output_type": "execute_result"
    }
   ],
   "source": [
    "sum(labels_cont)"
   ]
  },
  {
   "cell_type": "code",
   "execution_count": 25,
   "metadata": {},
   "outputs": [
    {
     "name": "stdout",
     "output_type": "stream",
     "text": [
      "[9, 4, 4, 10, 9]\n"
     ]
    },
    {
     "data": {
      "text/plain": [
       "False"
      ]
     },
     "execution_count": 25,
     "metadata": {},
     "output_type": "execute_result"
    }
   ],
   "source": [
    "classify_sent(\"Im headed to New York this summer since my internship is remote anyway. Oh, that sounds cool! I've heard NY gets really humid at that time of the year though? I don't mind a little humidity, I think it'll be fine! Sweet! Let me know how that goes - I might have to go to Florida for mine, so well be on the same time zone. Oh, awesome\")"
   ]
  }
 ],
 "metadata": {
  "kernelspec": {
   "display_name": "Python 3",
   "language": "python",
   "name": "python3"
  },
  "language_info": {
   "codemirror_mode": {
    "name": "ipython",
    "version": 3
   },
   "file_extension": ".py",
   "mimetype": "text/x-python",
   "name": "python",
   "nbconvert_exporter": "python",
   "pygments_lexer": "ipython3",
   "version": "3.8.3"
  }
 },
 "nbformat": 4,
 "nbformat_minor": 4
}
