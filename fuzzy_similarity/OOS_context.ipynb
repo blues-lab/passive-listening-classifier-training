{
 "cells": [
  {
   "cell_type": "code",
   "execution_count": 4,
   "metadata": {},
   "outputs": [],
   "source": [
    "import pandas as pd"
   ]
  },
  {
   "cell_type": "code",
   "execution_count": 24,
   "metadata": {},
   "outputs": [],
   "source": [
    "oos = pd.read_csv('samples.txt', sep = '\\n', names=['sentences'])\n",
    "triggers = pd.read_csv('triggers.txt', sep = '\\n', names=['sentences'])\n",
    "distractors_tbl = pd.read_csv('neg_distractors.txt', sep = '\\n', names=['sentences'])\n",
    "context = pd.read_csv('weather_app_sample_convos.csv')"
   ]
  },
  {
   "cell_type": "code",
   "execution_count": 33,
   "metadata": {},
   "outputs": [],
   "source": [
    "def oos_context_gen(oos, triggers, context, distractors = True, len_oos = 20): \n",
    "    \"Generates one random string of input for the weather app using len_oos OOS lines\"\n",
    "    \n",
    "    oos_samp = oos.sample(30)\n",
    "    context_samp = context.sample(1)\n",
    "    triggers_samp = triggers.sample(1)\n",
    "        \n",
    "    oos_text = ' '.join(oos_samp['sentences'].values)\n",
    "    context_text, label = context_samp['Context'].values[0], context_samp['Location'].values[0]\n",
    "    trigger = triggers_samp['sentences'].values[0]\n",
    "    \n",
    "    if distractors == True:\n",
    "        distractors_samp = distractors_tbl.sample(1)\n",
    "        distractors_text = distractors_samp['sentences'].values[0]\n",
    "        return ' '.join([oos_text, context_text, distractors_text, trigger]), label\n",
    "    \n",
    "    else: \n",
    "        return ' '.join([oos_text, context_text, trigger]), label\n",
    "    "
   ]
  },
  {
   "cell_type": "code",
   "execution_count": 37,
   "metadata": {},
   "outputs": [],
   "source": [
    "input_samples = pd.DataFrame(columns = ['sentence', 'label'])\n",
    "for i in range(5000): \n",
    "    sent, lab = oos_context_gen(oos, triggers, context)\n",
    "    input_samples = input_samples.append({'sentence' : sent, 'label' : lab}, ignore_index = True)\n"
   ]
  },
  {
   "cell_type": "code",
   "execution_count": 39,
   "metadata": {},
   "outputs": [],
   "source": [
    "input_samples.to_csv('input_samples.csv')"
   ]
  },
  {
   "cell_type": "code",
   "execution_count": null,
   "metadata": {},
   "outputs": [],
   "source": []
  }
 ],
 "metadata": {
  "kernelspec": {
   "display_name": "Python 3",
   "language": "python",
   "name": "python3"
  },
  "language_info": {
   "codemirror_mode": {
    "name": "ipython",
    "version": 3
   },
   "file_extension": ".py",
   "mimetype": "text/x-python",
   "name": "python",
   "nbconvert_exporter": "python",
   "pygments_lexer": "ipython3",
   "version": "3.8.3"
  }
 },
 "nbformat": 4,
 "nbformat_minor": 4
}
