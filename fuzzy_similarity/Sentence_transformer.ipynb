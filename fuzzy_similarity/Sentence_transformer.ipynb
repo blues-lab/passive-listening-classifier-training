{
 "cells": [
  {
   "cell_type": "code",
   "execution_count": 1,
   "metadata": {},
   "outputs": [
    {
     "name": "stderr",
     "output_type": "stream",
     "text": [
      "\r",
      "  0%|                                                                                           | 0/50 [00:00<?, ?it/s]"
     ]
    },
    {
     "name": "stdout",
     "output_type": "stream",
     "text": [
      "Computing false positives:\n"
     ]
    },
    {
     "name": "stderr",
     "output_type": "stream",
     "text": [
      "100%|██████████████████████████████████████████████████████████████████████████████████| 50/50 [04:40<00:00,  5.62s/it]\n",
      "  0%|                                                                                           | 0/14 [00:00<?, ?it/s]"
     ]
    },
    {
     "name": "stdout",
     "output_type": "stream",
     "text": [
      "(0, 0.0)\n",
      "Compute true positives\n"
     ]
    },
    {
     "name": "stderr",
     "output_type": "stream",
     "text": [
      "100%|██████████████████████████████████████████████████████████████████████████████████| 14/14 [00:38<00:00,  2.77s/it]"
     ]
    },
    {
     "name": "stdout",
     "output_type": "stream",
     "text": [
      "(10, 0.7142857142857143)\n"
     ]
    },
    {
     "name": "stderr",
     "output_type": "stream",
     "text": [
      "\n"
     ]
    }
   ],
   "source": [
    "import test\n",
    "from sentence_transformers import SentenceTransformer, util\n",
    "\n",
    "model = SentenceTransformer('paraphrase-distilroberta-base-v1')\n",
    "def is_trigger_sentence_transformer(sent1, sent2):\n",
    "#Compute embedding for both lists\n",
    "    embeddings1 = model.encode([sent1], convert_to_tensor=True)\n",
    "    embeddings2 = model.encode([sent2], convert_to_tensor=True)\n",
    "    cosine_scores = util.pytorch_cos_sim(embeddings1, embeddings2)\n",
    "    return cosine_scores[0] > .7\n",
    "test.compute_train_test_split(is_trigger_sentence_transformer)"
   ]
  },
  {
   "cell_type": "code",
   "execution_count": 5,
   "metadata": {},
   "outputs": [],
   "source": [
    "from tqdm import tqdm\n",
    "import random\n",
    "\n",
    "with open(\"samples.txt\") as f:\n",
    "    sentences = f.readlines()\n",
    "\n",
    "with open(\"triggers.txt\") as f:\n",
    "    triggers = f.readlines()\n",
    "\n",
    "with open(\"neg_distractors.txt\") as f:\n",
    "    distractors = f.readlines()\n",
    "\n",
    "def compute_accuracy(sents, trigs, is_trigger):\n",
    "    identified_trigger = 0\n",
    "    random.shuffle(sents)\n",
    "    for sent in tqdm(sents):\n",
    "        for trig in trigs:\n",
    "            if is_trigger(sent, trig):\n",
    "                identified_trigger += 1\n",
    "                break\n",
    "    return identified_trigger, identified_trigger/len(sents)\n",
    "\n",
    "def compute_train_test_split(is_trigger):\n",
    "    print(\"Computing false positives:\")\n",
    "    random.shuffle(triggers)\n",
    "    train_triggers = triggers[:int(len(triggers)*.8)]\n",
    "    test_triggers = triggers[int(len(triggers)*.8): len(triggers)]\n",
    "    print(compute_accuracy(sentences[:50], train_triggers, is_trigger))\n",
    "\n",
    "    print(\"Compute true positives\")\n",
    "    print(compute_accuracy(test_triggers, train_triggers, is_trigger))\n",
    "\n",
    "    print(\"Compute neg distractors rate\")\n",
    "    print(compute_accuracy(distractors, train_triggers, is_trigger))"
   ]
  },
  {
   "cell_type": "code",
   "execution_count": 4,
   "metadata": {},
   "outputs": [
    {
     "name": "stderr",
     "output_type": "stream",
     "text": [
      "\r",
      "  0%|                                                                                           | 0/50 [00:00<?, ?it/s]"
     ]
    },
    {
     "name": "stdout",
     "output_type": "stream",
     "text": [
      "Computing false positives:\n"
     ]
    },
    {
     "name": "stderr",
     "output_type": "stream",
     "text": [
      "100%|██████████████████████████████████████████████████████████████████████████████████| 50/50 [08:42<00:00, 10.45s/it]\n",
      "  0%|                                                                                           | 0/14 [00:00<?, ?it/s]"
     ]
    },
    {
     "name": "stdout",
     "output_type": "stream",
     "text": [
      "(0, 0.0)\n",
      "Compute true positives\n"
     ]
    },
    {
     "name": "stderr",
     "output_type": "stream",
     "text": [
      "100%|██████████████████████████████████████████████████████████████████████████████████| 14/14 [00:31<00:00,  2.22s/it]"
     ]
    },
    {
     "name": "stdout",
     "output_type": "stream",
     "text": [
      "(13, 0.9285714285714286)\n"
     ]
    },
    {
     "name": "stderr",
     "output_type": "stream",
     "text": [
      "\n"
     ]
    }
   ],
   "source": [
    "model = SentenceTransformer('bert-base-nli-mean-tokens')\n",
    "test.compute_train_test_split(is_trigger_sentence_transformer)"
   ]
  },
  {
   "cell_type": "code",
   "execution_count": 7,
   "metadata": {},
   "outputs": [
    {
     "name": "stderr",
     "output_type": "stream",
     "text": [
      "\r",
      "  0%|                                                                                           | 0/18 [00:00<?, ?it/s]"
     ]
    },
    {
     "name": "stdout",
     "output_type": "stream",
     "text": [
      "Compute neg distractors rate\n"
     ]
    },
    {
     "name": "stderr",
     "output_type": "stream",
     "text": [
      "100%|██████████████████████████████████████████████████████████████████████████████████| 18/18 [03:01<00:00, 10.09s/it]"
     ]
    },
    {
     "name": "stdout",
     "output_type": "stream",
     "text": [
      "(1, 0.05555555555555555)\n"
     ]
    },
    {
     "name": "stderr",
     "output_type": "stream",
     "text": [
      "\n"
     ]
    }
   ],
   "source": [
    "random.shuffle(triggers)\n",
    "train_triggers = triggers[:int(len(triggers)*.8)]\n",
    "test_triggers = triggers[int(len(triggers)*.8): len(triggers)]\n",
    "print(\"Compute neg distractors rate\")\n",
    "print(compute_accuracy(distractors, train_triggers, is_trigger_sentence_transformer))"
   ]
  },
  {
   "cell_type": "code",
   "execution_count": null,
   "metadata": {},
   "outputs": [],
   "source": []
  }
 ],
 "metadata": {
  "kernelspec": {
   "display_name": "Python 3",
   "language": "python",
   "name": "python3"
  },
  "language_info": {
   "codemirror_mode": {
    "name": "ipython",
    "version": 3
   },
   "file_extension": ".py",
   "mimetype": "text/x-python",
   "name": "python",
   "nbconvert_exporter": "python",
   "pygments_lexer": "ipython3",
   "version": "3.8.3"
  }
 },
 "nbformat": 4,
 "nbformat_minor": 4
}
